{
 "cells": [
  {
   "cell_type": "code",
   "execution_count": 9,
   "id": "automotive-foundation",
   "metadata": {},
   "outputs": [],
   "source": [
    "import os, glob\n",
    "import datetime"
   ]
  },
  {
   "cell_type": "code",
   "execution_count": 15,
   "id": "antique-marina",
   "metadata": {},
   "outputs": [],
   "source": [
    "GH_USER=\"junha_lee\"\n",
    "PC_USER=\"junha\"\n",
    "POST_PATH=\"/Users/\"+ PC_USER+\"/document/github/\"+GH_USER+\".github.io/_posts\" # <username>.github.io repository 가 있는 주소로 변경\n",
    "IMG_PATH=\"/Users/\"+ PC_USER+\"/document/github/\"+GH_USER+\".github.io/images\"  # <username>.github.io repository 가 있는 주소로 변경\n",
    "\n",
    "t = datetime.datetime.today()\n",
    "time = t.strftime('%Y-%m-%d-')\n"
   ]
  },
  {
   "cell_type": "code",
   "execution_count": 3,
   "id": "aquatic-deadline",
   "metadata": {},
   "outputs": [],
   "source": [
    "os.listdir()\n",
    "condition = '*.ipynb'\n",
    "pynbfiles = glob.glob(condition)"
   ]
  },
  {
   "cell_type": "code",
   "execution_count": 4,
   "id": "graduate-saturn",
   "metadata": {},
   "outputs": [],
   "source": [
    "for i in range(len(pynbfiles)):\n",
    "    os.system(\"jupyter nbconvert --to markdown \"+ pynbfiles[i] )"
   ]
  },
  {
   "cell_type": "code",
   "execution_count": 5,
   "id": "resistant-luxembourg",
   "metadata": {},
   "outputs": [],
   "source": [
    "os.listdir()\n",
    "condition = '*files'\n",
    "files = glob.glob(condition)"
   ]
  },
  {
   "cell_type": "code",
   "execution_count": 6,
   "id": "artificial-poultry",
   "metadata": {},
   "outputs": [],
   "source": [
    "for i in range(len(files)):\n",
    "    os.system(\"move \"+files[i]+r\" C:\\Users\\junha\\Documents\\GitHub\\junha-lee.github.io\\assets\\images\")\n",
    "    f = open(files[i][:-6]+'.md', 'r+', encoding='UTF8')\n",
    "    line = f.read().replace('![png](', '!['+files[i][:-6]+'](https://raw.githubusercontent.com/junha-lee/junha-lee.github.io/main/assets/images/')\n",
    "    f.close()\n",
    "    f2 = open(files[i][:-6]+'.md', 'w', encoding='UTF8')\n",
    "    f2.write(line)\n",
    "    f2.close()\n",
    "    os.rename(files[i][:-6]+'.md', time.+files[i][:-6]+'.md')"
   ]
  },
  {
   "cell_type": "code",
   "execution_count": 7,
   "id": "noted-aruba",
   "metadata": {},
   "outputs": [],
   "source": [
    "os.listdir()\n",
    "condition = '*.md'\n",
    "mdfiles = glob.glob(condition)"
   ]
  },
  {
   "cell_type": "code",
   "execution_count": 8,
   "id": "scheduled-field",
   "metadata": {},
   "outputs": [],
   "source": [
    "for i in range(len(mdfiles)):\n",
    "    os.system(\"move \"+mdfiles[i]+r\" C:\\Users\\junha\\Documents\\GitHub\\junha-lee.github.io\\_posts\")"
   ]
  },
  {
   "cell_type": "code",
   "execution_count": 13,
   "id": "attempted-communication",
   "metadata": {},
   "outputs": [],
   "source": [
    "t = datetime.datetime.today()"
   ]
  },
  {
   "cell_type": "code",
   "execution_count": 16,
   "id": "anticipated-unknown",
   "metadata": {},
   "outputs": [
    {
     "data": {
      "text/plain": [
       "'2021-03-11-'"
      ]
     },
     "execution_count": 16,
     "metadata": {},
     "output_type": "execute_result"
    }
   ],
   "source": [
    "time"
   ]
  },
  {
   "cell_type": "code",
   "execution_count": null,
   "id": "inappropriate-objective",
   "metadata": {},
   "outputs": [],
   "source": []
  }
 ],
 "metadata": {
  "kernelspec": {
   "display_name": "Python 3",
   "language": "python",
   "name": "python3"
  },
  "language_info": {
   "codemirror_mode": {
    "name": "ipython",
    "version": 3
   },
   "file_extension": ".py",
   "mimetype": "text/x-python",
   "name": "python",
   "nbconvert_exporter": "python",
   "pygments_lexer": "ipython3",
   "version": "3.6.12"
  }
 },
 "nbformat": 4,
 "nbformat_minor": 5
}
