{
 "cells": [
  {
   "cell_type": "markdown",
   "id": "lucky-lodge",
   "metadata": {},
   "source": [
    "---\n",
    "title: python으로 github 블로그에 jupyter notebook 올리기\n",
    "date: 2021-03-24\n",
    "category: etc\n",
    "toc: true\n",
    "---"
   ]
  },
  {
   "cell_type": "markdown",
   "id": "alternate-livestock",
   "metadata": {},
   "source": [
    "### python으로 github 블로그에 jupyter notebook 올리기\n",
    "---"
   ]
  },
  {
   "cell_type": "code",
   "execution_count": 11,
   "id": "inside-poison",
   "metadata": {},
   "outputs": [],
   "source": [
    "import os, glob\n",
    "import datetime"
   ]
  },
  {
   "cell_type": "code",
   "execution_count": 12,
   "id": "refined-fiction",
   "metadata": {},
   "outputs": [],
   "source": [
    "GH_USER=\"junha_lee\"\n",
    "PC_USER=\"junha\"\n",
    "POST_PATH=\"/Users/\"+ PC_USER+\"/document/github/\"+GH_USER+\".github.io/_posts\" # <username>.github.io repository 가 있는 주소로 변경\n",
    "IMG_PATH=\"/Users/\"+ PC_USER+\"/document/github/\"+GH_USER+\".github.io/images\"  # <username>.github.io repository 가 있는 주소로 변경\n",
    "\n",
    "t = datetime.datetime.today()\n",
    "time = t.strftime('%Y-%m-%d-')\n"
   ]
  },
  {
   "cell_type": "code",
   "execution_count": 13,
   "id": "instrumental-rehabilitation",
   "metadata": {},
   "outputs": [],
   "source": [
    "os.listdir()\n",
    "condition = '*.ipynb'\n",
    "pynbfiles = glob.glob(condition)"
   ]
  },
  {
   "cell_type": "code",
   "execution_count": 14,
   "id": "seasonal-victorian",
   "metadata": {},
   "outputs": [],
   "source": [
    "for i in range(len(pynbfiles)):\n",
    "    os.system(\"jupyter nbconvert --to markdown \"+ pynbfiles[i] )"
   ]
  },
  {
   "cell_type": "code",
   "execution_count": 15,
   "id": "prepared-martial",
   "metadata": {},
   "outputs": [],
   "source": [
    "os.listdir()\n",
    "condition = '*files'\n",
    "files = glob.glob(condition)"
   ]
  },
  {
   "cell_type": "code",
   "execution_count": 16,
   "id": "catholic-store",
   "metadata": {},
   "outputs": [],
   "source": [
    "for i in range(len(files)):\n",
    "    os.system(\"move \"+files[i]+r\" C:\\Users\\junha\\Documents\\GitHub\\junha-lee.github.io\\assets\\images\")"
   ]
  },
  {
   "cell_type": "code",
   "execution_count": 17,
   "id": "dominant-complement",
   "metadata": {},
   "outputs": [],
   "source": [
    "os.listdir()\n",
    "condition = '*.png'\n",
    "pngfile = glob.glob(condition)"
   ]
  },
  {
   "cell_type": "code",
   "execution_count": 18,
   "id": "modern-military",
   "metadata": {},
   "outputs": [],
   "source": [
    "for i in range(len(pngfile)):\n",
    "    os.system(\"move \"+pngfile[i]+r\" C:\\Users\\junha\\Documents\\GitHub\\junha-lee.github.io\\assets\\images\")"
   ]
  },
  {
   "cell_type": "code",
   "execution_count": 19,
   "id": "reported-entertainment",
   "metadata": {},
   "outputs": [],
   "source": [
    "os.listdir()\n",
    "condition = '*.md'\n",
    "mdfiles = glob.glob(condition)"
   ]
  },
  {
   "cell_type": "code",
   "execution_count": 20,
   "id": "developing-metropolitan",
   "metadata": {},
   "outputs": [],
   "source": [
    "for i in range(len(mdfiles)):\n",
    "    f = open(mdfiles[i], 'r+', encoding='UTF8')\n",
    "    line = f.read().replace('![png](', '!['+mdfiles[i][:-6]+'](https://raw.githubusercontent.com/junha-lee/junha-lee.github.io/main/assets/images/')\n",
    "    f.close()\n",
    "    f2 = open(mdfiles[i], 'w', encoding='UTF8')\n",
    "    f2.write(line)\n",
    "    f2.close()\n",
    "    os.rename(mdfiles[i], time+mdfiles[i])\n",
    "    os.system(\"move \"+time+mdfiles[i]+r\" C:\\Users\\junha\\Documents\\GitHub\\junha-lee.github.io\\_posts\")"
   ]
  }
 ],
 "metadata": {
  "kernelspec": {
   "display_name": "Python 3",
   "language": "python",
   "name": "python3"
  },
  "language_info": {
   "codemirror_mode": {
    "name": "ipython",
    "version": 3
   },
   "file_extension": ".py",
   "mimetype": "text/x-python",
   "name": "python",
   "nbconvert_exporter": "python",
   "pygments_lexer": "ipython3",
   "version": "3.6.12"
  }
 },
 "nbformat": 4,
 "nbformat_minor": 5
}
