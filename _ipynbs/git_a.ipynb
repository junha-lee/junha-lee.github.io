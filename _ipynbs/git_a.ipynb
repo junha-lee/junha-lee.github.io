{
 "cells": [
  {
   "cell_type": "code",
   "execution_count": 9,
   "id": "ethical-patrol",
   "metadata": {},
   "outputs": [],
   "source": [
    "import os, glob\n",
    "import datetime"
   ]
  },
  {
   "cell_type": "code",
   "execution_count": 10,
   "id": "ranging-wisdom",
   "metadata": {},
   "outputs": [],
   "source": [
    "GH_USER=\"junha_lee\"\n",
    "PC_USER=\"junha\"\n",
    "POST_PATH=\"/Users/\"+ PC_USER+\"/document/github/\"+GH_USER+\".github.io/_posts\" # <username>.github.io repository 가 있는 주소로 변경\n",
    "IMG_PATH=\"/Users/\"+ PC_USER+\"/document/github/\"+GH_USER+\".github.io/images\"  # <username>.github.io repository 가 있는 주소로 변경\n",
    "\n",
    "t = datetime.datetime.today()\n",
    "time = t.strftime('%Y-%m-%d-')\n"
   ]
  },
  {
   "cell_type": "code",
   "execution_count": 11,
   "id": "historic-antarctica",
   "metadata": {},
   "outputs": [],
   "source": [
    "os.listdir()\n",
    "condition = '*.ipynb'\n",
    "pynbfiles = glob.glob(condition)"
   ]
  },
  {
   "cell_type": "code",
   "execution_count": 12,
   "id": "waiting-pixel",
   "metadata": {},
   "outputs": [],
   "source": [
    "for i in range(len(pynbfiles)):\n",
    "    os.system(\"jupyter nbconvert --to markdown \"+ pynbfiles[i] )"
   ]
  },
  {
   "cell_type": "code",
   "execution_count": 13,
   "id": "tired-cargo",
   "metadata": {},
   "outputs": [],
   "source": [
    "os.listdir()\n",
    "condition = '*files'\n",
    "files = glob.glob(condition)"
   ]
  },
  {
   "cell_type": "code",
   "execution_count": 14,
   "id": "clear-prophet",
   "metadata": {},
   "outputs": [],
   "source": [
    "for i in range(len(files)):\n",
    "    os.system(\"move \"+files[i]+r\" C:\\Users\\junha\\Documents\\GitHub\\junha-lee.github.io\\assets\\images\")"
   ]
  },
  {
   "cell_type": "code",
   "execution_count": 15,
   "id": "bulgarian-engagement",
   "metadata": {},
   "outputs": [],
   "source": [
    "os.listdir()\n",
    "condition = '*.png'\n",
    "pngfile = glob.glob(condition)"
   ]
  },
  {
   "cell_type": "code",
   "execution_count": 16,
   "id": "arbitrary-ranking",
   "metadata": {},
   "outputs": [],
   "source": [
    "for i in range(len(pngfile)):\n",
    "    os.system(\"move \"+pngfile[i]+r\" C:\\Users\\junha\\Documents\\GitHub\\junha-lee.github.io\\assets\\images\")"
   ]
  },
  {
   "cell_type": "code",
   "execution_count": 17,
   "id": "ignored-commercial",
   "metadata": {},
   "outputs": [],
   "source": [
    "os.listdir()\n",
    "condition = '*.md'\n",
    "mdfiles = glob.glob(condition)"
   ]
  },
  {
   "cell_type": "code",
   "execution_count": 18,
   "id": "listed-celtic",
   "metadata": {},
   "outputs": [],
   "source": [
    "for i in range(len(mdfiles)):\n",
    "    f = open(mdfiles[i], 'r+', encoding='UTF8')\n",
    "    line = f.read().replace('![png](', '!['+mdfiles[i][:-6]+'](https://raw.githubusercontent.com/junha-lee/junha-lee.github.io/main/assets/images/')\n",
    "    f.close()\n",
    "    f2 = open(mdfiles[i], 'w', encoding='UTF8')\n",
    "    f2.write(line)\n",
    "    f2.close()\n",
    "    os.rename(mdfiles[i], time+mdfiles[i])\n",
    "    os.system(\"move \"+time+mdfiles[i]+r\" C:\\Users\\junha\\Documents\\GitHub\\junha-lee.github.io\\_posts\")"
   ]
  },
  {
   "cell_type": "code",
   "execution_count": null,
   "id": "figured-registration",
   "metadata": {},
   "outputs": [],
   "source": []
  }
 ],
 "metadata": {
  "kernelspec": {
   "display_name": "Python 3",
   "language": "python",
   "name": "python3"
  },
  "language_info": {
   "codemirror_mode": {
    "name": "ipython",
    "version": 3
   },
   "file_extension": ".py",
   "mimetype": "text/x-python",
   "name": "python",
   "nbconvert_exporter": "python",
   "pygments_lexer": "ipython3",
   "version": "3.6.12"
  }
 },
 "nbformat": 4,
 "nbformat_minor": 5
}
