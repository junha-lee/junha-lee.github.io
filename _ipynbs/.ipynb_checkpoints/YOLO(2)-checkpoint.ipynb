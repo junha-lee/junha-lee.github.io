{
 "cells": [
  {
   "cell_type": "markdown",
   "id": "medical-moral",
   "metadata": {},
   "source": [
    "---\n",
    "title: YOLO(2)\n",
    "date: 2020-10-2\n",
    "category: coal\n",
    "toc: true\n",
    "---"
   ]
  },
  {
   "cell_type": "markdown",
   "id": "massive-windsor",
   "metadata": {},
   "source": [
    "이번 포스트에서는 라즈베리파이를 이용해 석탄을 탐지하기 위한 coal 데이터 전처리 과정과 YOLO를 다룹니다."
   ]
  },
  {
   "cell_type": "markdown",
   "id": "warming-insight",
   "metadata": {},
   "source": [
    "### Yolo 데이터 전처리\n",
    "---"
   ]
  },
  {
   "cell_type": "markdown",
   "id": "freelance-findings",
   "metadata": {},
   "source": [
    "![png](YOLO-0.png)\n",
    "\n",
    "GoogLeNet을 기반으로 한  24 Convolutional layers + 2 Fully Connected layers"
   ]
  },
  {
   "cell_type": "markdown",
   "id": "extreme-stomach",
   "metadata": {},
   "source": [
    "### Darkflow 매개변수\n",
    "---\n",
    "\n",
    "--imgdir&nbsp;&nbsp;&nbsp;테스트 이미지 경로\n",
    "--binary&nbsp;&nbsp;&nbsp;weights 경로\n",
    "--config &nbsp;&nbsp;&nbsp;cfg경로\n",
    "--dataset       &nbsp;&nbsp;&nbsp;dataset 경로\n",
    "--labels      &nbsp;&nbsp;&nbsp;  labels file경로\n",
    "--backup      &nbsp;&nbsp;&nbsp;  backup folder 경로\n",
    "--summary &nbsp;&nbsp;&nbsp;      TensorBoard summaries \n",
    "--annotation &nbsp;&nbsp;&nbsp;\t박스 경로\n",
    "--threshold  &nbsp;&nbsp;&nbsp;   detection threshold\n",
    "--model \t&nbsp;&nbsp;&nbsp;    모델 경로\n",
    "--momentum     &nbsp;&nbsp;&nbsp; momentum optimizers\n",
    "--save\t  &nbsp;&nbsp;&nbsp;      체크포인트 저장\n",
    "--train       &nbsp;&nbsp;&nbsp;  train the whole net\n",
    "--savepb \t&nbsp;&nbsp;&nbsp;\t가중치 저장\n",
    "--gpu      &nbsp;&nbsp;&nbsp;     GPU 사용량\n",
    "--gpuName   &nbsp;&nbsp;&nbsp;    GPU device name\n",
    "--lr     &nbsp;&nbsp;&nbsp;       learning rate\n",
    "--keep \t  &nbsp;&nbsp;&nbsp;      저장할 최근 학습 결과\n",
    "--batch    &nbsp;&nbsp;&nbsp;     batch size\n",
    "--epoch     &nbsp;&nbsp;&nbsp;    number of epoch\n",
    "--demo     &nbsp;&nbsp;&nbsp;     demo on webcam\n",
    "--queue    &nbsp;&nbsp;&nbsp;     process demo in batch\n",
    "--json \t  &nbsp;&nbsp;&nbsp;      json 출력\n",
    "--saveVideo   &nbsp;&nbsp;&nbsp;  생성된 비디오 출력\n",
    "\n"
   ]
  },
  {
   "cell_type": "markdown",
   "id": "moved-management",
   "metadata": {},
   "source": [
    "### 출력 값 가공\n",
    "---\n",
    "![png](YOLO-2.png)\n",
    "\n",
    "* NMS : 모든 상자를 확률 기준으로 정렬, 가장 높은 확률의 경계 상자를 기준으로 IoU계산, Iou가 IoU임계값보다 높은 상자를 모두 제거\n",
    "\n",
    "* 경계 상자 : 객체를 둘러싼 가장 작은 사각형\n",
    "* 앵커 상자 : 특정 크기의 경계상자\n",
    "* 실측 상자 : 훈련 셋 생성시의 상자\n",
    "\n",
    "* 훈련과정 : 앵커 상자를 훈련을 통해 조절하여 경계상자 생성하고 실측상자에 맞추어간다."
   ]
  },
  {
   "cell_type": "markdown",
   "id": "dynamic-treaty",
   "metadata": {},
   "source": [
    "### 부가 설명\n",
    "---\n",
    "1. Cell보다 큰 object 탐지 방법\n",
    "\n",
    "처음부터 cell 보다 큰 Anchorbox를 사용하고, 물체가 작으면 박스를 줄이고, 크면 키운다.\n",
    "또, Cell 안에 box의 센터가 존재한다.\n",
    "\n",
    "![png](YOLO-3.png)\n",
    "\n",
    "2. 5번째 출력 ***P***의 의미\n",
    "\n",
    "어떤 class에 속할지 모르지만 물체가 있을 확률로,\n",
    "\n",
    "각 확률 값은 어떤 공식에 의해 명시적으로 유도되는 것이 아니라, 뉴럴 넷에 의해 비명시적으로(implicitly) 도출\n",
    "\n",
    "3. 비용 함수 및 역전파 \n",
    "\n",
    "( NMS까지 거친 후 학습 ,\n",
    "비용 함수 = 경계상자 손실 + 객체 신뢰도 손실 + 분류 손실 )\n",
    "\n",
    "\n",
    "![png](YOLO-4.png)\n",
    "\n",
    "* 경계상자 손실 : 상자의 좌표와 크기를 예측하기 위해 사용\n",
    "\n",
    "-> 가중치{(x-목표x)²+(y-목표y)²}+가중치{(w-목표w)²+(h-목표h)²} \n",
    "\n",
    "* 객체 신뢰도 손실 : 객체가 존재하는지, 존재하지 않는지 예측하기 위해 사용\n",
    "\n",
    "-> 사라진 박스 : N\n",
    "\n",
    "-> 남은 박스 : P\n",
    "\n",
    "-> 실제와 예측의 IoU 가 threshold 이상이면 TP\n",
    "아니거나, 더 높은 박스와 threshold 이상 겹치면 FP\n",
    "없앴는데, 실제 없으면 FN \n",
    "\n",
    "-> Precision, Recall 구하고 mAP 적용\n",
    "\n",
    "* 분류 손실 : 클래스 예측하기 위해 사용\n"
   ]
  },
  {
   "cell_type": "markdown",
   "id": "cross-nature",
   "metadata": {},
   "source": [
    "### 모델 평가 지표\n",
    "---\n",
    " Threshold가 낮아지면, 후보가 많아져서 Recall 은 높아지고, 확실하지 않은 후보가 많기 때문에 Precision 은 낮아진다.\n",
    "\n",
    "![png](YOLO-5.png)\n",
    "\n",
    "때문에 mAp를 모델 평가 지표로 사용 \n",
    "\n",
    "![image.png](YOLO-6.png)\n",
    "\n",
    "AP : threshold 를 recall이 1일 때부터 0일 때 까지 조금씩 줄여 recall 과 precesion간의 관계를 나타낸 후 해당 11개 recall에 대한 precision의 값 평균을 뜻한다.\n",
    "\n",
    "mAP: 모든 클래스 별로 AP를 구하고 평균낸 값을 뜻한다."
   ]
  },
  {
   "cell_type": "markdown",
   "id": "assisted-midwest",
   "metadata": {},
   "source": [
    "### YOLO로 호환되는 딥러닝 프레임워크\n",
    "\n",
    "---\n",
    "\n",
    "1. Darknet : YOLO 개발자가 만든 프레임워크. \n",
    "  장점 : 빠르다. GPU또는 CPU와 함께 사용가능\n",
    "  단점 : 리눅스에서만 호환\n",
    "\n",
    "2. Darkflow : Darknet을 텐서플로우에 적용한것\n",
    "  장점 : 빠르고 GPU 또는 CPU와 함께 사용 가능\n",
    "          리눅스, 윈도우, 맥에서 호환\n",
    "  단점 : 설치 복잡\n",
    "\n",
    "3. OpenCV : 최소 3.4.2버전 필요\n",
    "  장점 : openCV외에 설치할 것이 없다\n",
    "  단점 : CPU에서만 작동(느림)\n",
    "\n",
    "Tensorflow가 설치된 윈도우 환경에서 구동하기 위해 Darkflow를 사용 \n"
   ]
  },
  {
   "cell_type": "markdown",
   "id": "romance-occasion",
   "metadata": {},
   "source": [
    "### Reference\n",
    "---"
   ]
  },
  {
   "cell_type": "markdown",
   "id": "chicken-classification",
   "metadata": {},
   "source": [
    "\n",
    "* https://curt-park.github.io/2017-03-26/yolo/\n",
    "\n",
    "* https://mickael-k.tistory.com/27\n",
    "\n",
    "* https://ohjinjin.github.io/machinelearning/yolo/\n",
    "\n"
   ]
  }
 ],
 "metadata": {
  "kernelspec": {
   "display_name": "Python 3",
   "language": "python",
   "name": "python3"
  },
  "language_info": {
   "codemirror_mode": {
    "name": "ipython",
    "version": 3
   },
   "file_extension": ".py",
   "mimetype": "text/x-python",
   "name": "python",
   "nbconvert_exporter": "python",
   "pygments_lexer": "ipython3",
   "version": "3.6.12"
  }
 },
 "nbformat": 4,
 "nbformat_minor": 5
}
