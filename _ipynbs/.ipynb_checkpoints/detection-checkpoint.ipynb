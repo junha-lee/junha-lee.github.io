{
 "cells": [
  {
   "cell_type": "markdown",
   "metadata": {},
   "source": [
    "---\n",
    "title: capture & predict (raspberrypi)\n",
    "date: 2020-08-12\n",
    "category: coal\n",
    "tags:\n",
    "    - deep learning\n",
    "    - image detection\n",
    "    - coal\n",
    "    - IoT\n",
    "toc: true\n",
    "---"
   ]
  },
  {
   "cell_type": "markdown",
   "metadata": {},
   "source": [
    "### Raspberry pi를 이용한 석탄 분류 장치 만들기\n",
    "---"
   ]
  },
  {
   "cell_type": "code",
   "execution_count": null,
   "metadata": {},
   "outputs": [],
   "source": [
    "def capture(camid = CAM_ID): #사진 찍어서 저장\n",
    "    cam = cv2.VideoCapture(camid)\n",
    "    if cam.isOpened() == False:\n",
    "        print ('cant open the cam (%d)' % camid)\n",
    "        return None\n",
    "    ret, frame = cam.read()\n",
    "    if frame is None:\n",
    "        print ('frame is not exist')\n",
    "        return None\n",
    "    cv2.imwrite('coal.png',frame, params=[cv2.IMWRITE_PNG_COMPRESSION,0])\n",
    "    cam.release()\n",
    "def load_image(filename): # 저장한 이미지 불러와 형식 지정\n",
    "    img = load_img(filename, target_size=(150,150))\n",
    "    img = img_to_array(img)\n",
    "    img = img.reshape(1,150,150, 3)\n",
    "    img = img.astype(＇float32＇)\n",
    "    return img\n",
    "def predict(): # 저장한 모델 불러오기 후 load_image 호출 하여 예측 \n",
    "    model = tf.keras.models.load_model('coal_classification_data_augmentation - epoch17.h5')\n",
    "    img = load_image('./coal.png')\n",
    "    result = model.predict(img)\n",
    "    if (result[0]==1):\n",
    "        return '유연탄'\n",
    "    elif (result[0]==0):\n",
    "        return '연갈탄'\n",
    "if __name__ == '__main__':\n",
    "    capture()\n",
    "    print(predict())"
   ]
  },
  {
   "cell_type": "markdown",
   "metadata": {},
   "source": [
    " 가장 성능이 좋았던 \"coal_classification_data_augmentation-epoch17\" 모델을 사용했습니다."
   ]
  },
  {
   "cell_type": "markdown",
   "metadata": {},
   "source": [
    "<iframe width=\"560\" height=\"315\" src=\"https://www.youtube.com/embed/ogs_l6xo1nE\" frameborder=\"0\" allow=\"accelerometer; autoplay; clipboard-write; encrypted-media; gyroscope; picture-in-picture\" allowfullscreen></iframe>"
   ]
  },
  {
   "cell_type": "markdown",
   "metadata": {},
   "source": [
    "\n",
    "### 마치며\n",
    "\n",
    "raspberry pi 석탄 분류기를 만들어봤습니다.\n",
    "이제 여러 종류의 석탄을 탐지하여 실제 컨테이너 밸트에서 분류하는 장치를 만들어 볼 생각입니다.\n",
    "\n",
    "읽어주셔서 감사합니다."
   ]
  }
 ],
 "metadata": {
  "kernelspec": {
   "display_name": "Python 3",
   "language": "python",
   "name": "python3"
  },
  "language_info": {
   "codemirror_mode": {
    "name": "ipython",
    "version": 3
   },
   "file_extension": ".py",
   "mimetype": "text/x-python",
   "name": "python",
   "nbconvert_exporter": "python",
   "pygments_lexer": "ipython3",
   "version": "3.6.12"
  }
 },
 "nbformat": 4,
 "nbformat_minor": 4
}
