{
 "cells": [
  {
   "cell_type": "markdown",
   "id": "proof-appointment",
   "metadata": {},
   "source": [
    "---\n",
    "title: coal crawling\n",
    "date: 2020-07-18\n",
    "category: coal\n",
    "tags:\n",
    "    - web crawling\n",
    "    - Selenium\n",
    "    - coal\n",
    "    - IoT\n",
    "toc: true\n",
    "---"
   ]
  },
  {
   "cell_type": "markdown",
   "id": "south-plate",
   "metadata": {},
   "source": [
    "### 목표 데이터 정의\n",
    "---"
   ]
  },
  {
   "cell_type": "markdown",
   "id": "transsexual-financing",
   "metadata": {},
   "source": [
    "![png](data.png)"
   ]
  },
  {
   "cell_type": "markdown",
   "id": "graduate-repeat",
   "metadata": {},
   "source": [
    "### Selenium을 이용한 스크래핑\n",
    "---"
   ]
  },
  {
   "cell_type": "code",
   "execution_count": null,
   "id": "textile-wichita",
   "metadata": {},
   "outputs": [],
   "source": [
    "#크롬의 해당 이미지 url 접속 코드\n",
    "\n",
    "Search_term = 'Bituminous coal'\n",
    "url = https://www.google.co.in/search?q=+search_term+\"&tbm=isch“\n",
    "browser = webdriver.Chrome('chromedriver.exe')\n",
    "browser.get(url)\n",
    "\n",
    "#스크롤 코드\n",
    "browser.execute_script('window.scrollBy(0,10000)')\n",
    "\n",
    "#해당 클래스 이름을 가진 요소 찾는 코드\n",
    "browser.find_elements_by_class_name(\"rg_i\")\n",
    "\n",
    "#이미지로 저장하는 코드\n",
    "el.screenshot(str(idx) + \".png\")\n"
   ]
  },
  {
   "cell_type": "markdown",
   "id": "necessary-tobago",
   "metadata": {},
   "source": [
    "### 스크래핑 결과\n",
    "---"
   ]
  },
  {
   "cell_type": "markdown",
   "id": "promising-produce",
   "metadata": {},
   "source": [
    "![png](bituminous_coal.png)"
   ]
  },
  {
   "cell_type": "markdown",
   "id": "hindu-poverty",
   "metadata": {},
   "source": [
    "### Dataset\n",
    "---\n",
    "\n",
    "연갈탄과 유연탄 사진\n",
    "\n",
    "Trainset – 연갈탄 20개, 유연탄 120개\n",
    "\n",
    "Testset –  연갈탄 6개, 유연탄 14개\n",
    "\n",
    "validationset –  연갈탄 3개, 유연탄 7개\n"
   ]
  },
  {
   "cell_type": "markdown",
   "id": "hundred-league",
   "metadata": {},
   "source": [
    "### 마치며\n",
    "---\n",
    "\n",
    "석탄 분류기 제조를 위해 연갈탄 및 유연탄 데이터를 수집 해 봤습니다.\n",
    "\n",
    "읽어주셔서 감사합니다."
   ]
  },
  {
   "cell_type": "code",
   "execution_count": null,
   "id": "demographic-butter",
   "metadata": {},
   "outputs": [],
   "source": []
  }
 ],
 "metadata": {
  "kernelspec": {
   "display_name": "Python 3",
   "language": "python",
   "name": "python3"
  },
  "language_info": {
   "codemirror_mode": {
    "name": "ipython",
    "version": 3
   },
   "file_extension": ".py",
   "mimetype": "text/x-python",
   "name": "python",
   "nbconvert_exporter": "python",
   "pygments_lexer": "ipython3",
   "version": "3.6.12"
  }
 },
 "nbformat": 4,
 "nbformat_minor": 5
}
