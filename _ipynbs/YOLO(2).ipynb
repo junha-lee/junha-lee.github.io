{
 "cells": [
  {
   "cell_type": "markdown",
   "id": "split-highlight",
   "metadata": {},
   "source": [
    "---\n",
    "title: YOLO(2)\n",
    "date: 2020-10-2\n",
    "category: coal\n",
    "toc: true\n",
    "---"
   ]
  },
  {
   "cell_type": "markdown",
   "id": "legitimate-monroe",
   "metadata": {},
   "source": [
    "이번 포스트에서는 라즈베리파이를 이용해 석탄을 탐지하기 위한 coal 데이터 전처리 과정과 YOLO를 다룹니다."
   ]
  },
  {
   "cell_type": "markdown",
   "id": "editorial-duncan",
   "metadata": {},
   "source": [
    "### Yolo 데이터 전처리\n",
    "---"
   ]
  },
  {
   "cell_type": "markdown",
   "id": "declared-directive",
   "metadata": {},
   "source": [
    "![png](yolo-data-preprocessing.png)\n",
    "\n",
    "YOLO 학습을 위해서 classification에서 사용한 coal 데이터에 실측상자를 생성하고, 레이블을 달아줍니다."
   ]
  },
  {
   "cell_type": "markdown",
   "id": "severe-gregory",
   "metadata": {},
   "source": [
    "### Darkflow 매개변수\n",
    "---\n",
    "\n",
    "--imgdir&nbsp;&nbsp;&nbsp;테스트 이미지 경로\n",
    "\n",
    "--binary&nbsp;&nbsp;&nbsp;weights 경로\n",
    "\n",
    "--config &nbsp;&nbsp;&nbsp;cfg경로\n",
    "\n",
    "--dataset       &nbsp;&nbsp;&nbsp;dataset 경로\n",
    "\n",
    "--labels      &nbsp;&nbsp;&nbsp;  labels file경로\n",
    "\n",
    "--backup      &nbsp;&nbsp;&nbsp;  backup folder 경로\n",
    "\n",
    "--summary &nbsp;&nbsp;&nbsp;      TensorBoard summaries \n",
    "\n",
    "--annotation &nbsp;&nbsp;&nbsp;\t박스 경로\n",
    "\n",
    "--threshold  &nbsp;&nbsp;&nbsp;   detection threshold\n",
    "\n",
    "--model \t&nbsp;&nbsp;&nbsp;    모델 경로\n",
    "\n",
    "--momentum     &nbsp;&nbsp;&nbsp; momentum optimizers\n",
    "\n",
    "--save\t  &nbsp;&nbsp;&nbsp;      체크포인트 저장\n",
    "\n",
    "--train       &nbsp;&nbsp;&nbsp;  train the whole net\n",
    "\n",
    "--savepb \t&nbsp;&nbsp;&nbsp;\t가중치 저장\n",
    "\n",
    "--gpu      &nbsp;&nbsp;&nbsp;     GPU 사용량\n",
    "\n",
    "--gpuName   &nbsp;&nbsp;&nbsp;    GPU device name\n",
    "\n",
    "--lr     &nbsp;&nbsp;&nbsp;       learning rate\n",
    "\n",
    "--keep \t  &nbsp;&nbsp;&nbsp;      저장할 최근 학습 결과\n",
    "\n",
    "--batch    &nbsp;&nbsp;&nbsp;     batch size\n",
    "\n",
    "--epoch     &nbsp;&nbsp;&nbsp;    number of epoch\n",
    "\n",
    "--demo     &nbsp;&nbsp;&nbsp;     demo on webcam\n",
    "\n",
    "--queue    &nbsp;&nbsp;&nbsp;     process demo in batch\n",
    "\n",
    "--json \t  &nbsp;&nbsp;&nbsp;      json 출력\n",
    "\n",
    "--saveVideo   &nbsp;&nbsp;&nbsp;  생성된 비디오 출력"
   ]
  },
  {
   "cell_type": "markdown",
   "id": "communist-russian",
   "metadata": {},
   "source": [
    "### YOLO 학습\n",
    "---\n",
    "\n",
    "python flow --model ./cfg/tiny-yolo.cfg --labels ./labels.txt --trainer adam --dataset ./detect/image/ --annotation ./detect/annotation/ --train --summary ./logs --batch 4 --epoch 200 --save 50 --keep 5 --lr 1e-04 --gpu 0.5\n",
    "\n",
    "모델,라벨,데이터,박스데이터 경로 불러와서 -> adam사용하고 batch=4, epoch는 200번 학습률은 0.0001로 GPU를 반만 사용하여 학습 한다. 그 과정에서 50개의 배치마다 저장, 마지막 5개의 모델 저장하며 TensorBoard summaries를 사용한다.\n"
   ]
  },
  {
   "cell_type": "markdown",
   "id": "consolidated-boxing",
   "metadata": {},
   "source": [
    "### 부가 설명\n",
    "---\n",
    "* 모델 사용\n",
    "\n",
    "-> python flow --imgdir ./detect_testset -–model ./cfg/tiny-yolo.cfg --load -1 --batch 1 --threshold 0.5\n",
    "\n",
    "* 그래프 (Tensor Board)\n",
    "\n",
    "-> tensorboard --logdir=./logstrain/ \n"
   ]
  },
  {
   "cell_type": "markdown",
   "id": "scientific-incidence",
   "metadata": {},
   "source": [
    "### Darkflow 에러 해결 방법\n",
    "\n",
    "---\n",
    "Darkflow.sln 이나 no_gpu_darkflow.sln 을 빌드 불가\n",
    "\n",
    "비주얼 스튜디오 2015를 설치 후 환경변수 편집\n",
    "\n",
    "\n",
    "2. GPU 사용시 darkflow.exe 파일 실행 \n",
    "\n",
    "CUDA 8.0 사용 및 Cudnn 버전 맞춤\n",
    "\n",
    "\n",
    "3. CUDA_ERROR_OUT_OF_MEMORY, CUDNN_STATUS_ALLOC_FAILED\n",
    "\n",
    "(--gpu ? --batch ?) gpu 사용량, batch 크기 조정 or 모델 구조 변경\n",
    "\n",
    "\n",
    "4. AssertionError: expect 202335260 bytes, found 203934260\n",
    "\n",
    " - darkflow\\utils\\  폴더의  loader.py에서\n",
    "self.offset = 16을  찾아 \n",
    "self.offset = 16 + found_value - expected_value 형식으로 변경\n",
    "Ex)self.offset = 16 + 203934260 - 202335260 \n"
   ]
  },
  {
   "cell_type": "markdown",
   "id": "dynamic-taiwan",
   "metadata": {},
   "source": [
    "### train result\n",
    "---\n",
    "\n",
    "Train dataset : 이미지 파일과 박스 전처리 한 xml 파일 29개\n",
    "\n",
    "--> Batch를 4로 설정 : 한 과정당 4개의 데이터 필요\n",
    "\n",
    "--> 한 에포크는 7개의 학습 과정으로 구성 (4*7=28)    \n",
    "\n",
    "![png](yolo-result1.png)\n",
    "\n",
    "![png](yolo-result2.png)\n",
    "\n",
    "![png](yolo-result3.png)\n",
    "\n",
    "![png](yolo-result-1.png)\n",
    "\n",
    "![png](yolo-result-2.png)\n",
    "\n",
    "testset에 대해서는 한 유연탄에 대해 90% 이상의 정확도로 탐지하지만, 나머지는 탐지하지 못했고,\n",
    "\n",
    "trainset에 대해서는 모든 석탄을 탐지함을 알 수 있었습니다."
   ]
  },
  {
   "cell_type": "markdown",
   "id": "worldwide-croatia",
   "metadata": {},
   "source": [
    "### 마치며\n",
    "---\n",
    "trainset에 대해서는 모든 석탄을 탐지함을 알 수 있었지만, testset에 대해서는 일부만 탐지가 가능한 것으로 보아 일부 데이터에 과적합 되었다고 추측할 수 있습니다.\n",
    "\n",
    "특히 연구에 사용한 모델 구조와 하이퍼파라미터 튜닝값을 Demo data에 사용한 결과 testset까지 모두 탐지하는 것으로 보아 Imagenet과 같은 다양한 종류의 방대한 뎅\n"
   ]
  },
  {
   "cell_type": "markdown",
   "id": "secure-honolulu",
   "metadata": {},
   "source": [
    "\n",
    "* https://curt-park.github.io/2017-03-26/yolo/\n",
    "\n",
    "* https://mickael-k.tistory.com/27\n",
    "\n",
    "* https://ohjinjin.github.io/machinelearning/yolo/\n",
    "\n"
   ]
  }
 ],
 "metadata": {
  "kernelspec": {
   "display_name": "Python 3",
   "language": "python",
   "name": "python3"
  },
  "language_info": {
   "codemirror_mode": {
    "name": "ipython",
    "version": 3
   },
   "file_extension": ".py",
   "mimetype": "text/x-python",
   "name": "python",
   "nbconvert_exporter": "python",
   "pygments_lexer": "ipython3",
   "version": "3.6.12"
  }
 },
 "nbformat": 4,
 "nbformat_minor": 5
}
